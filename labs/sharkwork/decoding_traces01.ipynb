{
 "cells": [
  {
   "cell_type": "code",
   "execution_count": 1,
   "id": "d5d06f51-2f7a-4ba8-a3ad-93d50b967665",
   "metadata": {
    "tags": []
   },
   "outputs": [
    {
     "name": "stdout",
     "output_type": "stream",
     "text": [
      "Packet Number - 1\n",
      "Timestamp: 2020-10-19 02:53:51.186495\n",
      "MAC source      - b'\\x00\\x0e\\x08\\xd9~$'\n",
      "MAC Destination - b'\\x00\\x00\\x00\\x01\\x00\\x06'\n",
      "Packet Number - 2\n",
      "Timestamp: 2020-10-19 02:53:51.186691\n",
      "MAC source      - b'\\xb4\\xb6v54i'\n",
      "MAC Destination - b'\\x00\\x04\\x00\\x01\\x00\\x06'\n",
      "Packet Number - 3\n",
      "Timestamp: 2020-10-19 02:53:51.210669\n",
      "MAC source      - b'\\x00\\x0e\\x08\\xd9~$'\n",
      "MAC Destination - b'\\x00\\x00\\x00\\x01\\x00\\x06'\n",
      "Packet Number - 4\n",
      "Timestamp: 2020-10-19 02:53:51.210799\n",
      "MAC source      - b'\\xb4\\xb6v54i'\n",
      "MAC Destination - b'\\x00\\x04\\x00\\x01\\x00\\x06'\n"
     ]
    }
   ],
   "source": [
    "#!/usr/bin/env python\n",
    "\"\"\"Alta3 Research | RZFeeser\n",
    "   Any trace that is in *.pcapng must be first decoded to *.pcap\n",
    "   this may be completed with the editcap utility. The editcap can be installed with tshark (sudo apt install tshark -y)\n",
    "\n",
    "   editcap -F libpcap -T ether trace.pcapng trace.pcap\n",
    "    \n",
    "   The dpkt library is installed with:\n",
    "\n",
    "   python3 -m pip install dpkt\"\"\"\n",
    "\n",
    "# standard library\n",
    "import datetime\n",
    "\n",
    "# python3 -m pip install dpkt\n",
    "import dpkt\n",
    "\n",
    "def main():\n",
    "\n",
    "    # open the trace in read mode, and as a binary file\n",
    "    # as long as we are indenting the file remains open\n",
    "    with open('SIP_REGISTER_wp.pcap', 'rb') as f:\n",
    "\n",
    "        # opens the file object with dpkt and exposes it to\n",
    "        # the python sub-library \"pypcap\"\n",
    "        pcap = dpkt.pcap.Reader(f)\n",
    "\n",
    "        pkt_no = 0\n",
    "        # ts is a timestamp, and buf is \"buffered raw data\"\n",
    "        # this buffered raw data isn't too usable right away\n",
    "        for ts, buf in pcap:\n",
    "\n",
    "            pkt_no += 1\n",
    "            print(f'Packet Number - {pkt_no}')\n",
    "\n",
    "            # display the timestamp in UTC format\n",
    "            print(f'Timestamp: {datetime.datetime.utcfromtimestamp(ts)}')\n",
    "\n",
    "            # unpack the ethernet frame (MAC ^Bsource and destination)\n",
    "            eth = dpkt.ethernet.Ethernet(buf) # here we tell dpkt that this is an Ethernet capture (layer 2)\n",
    "            print(f'MAC source      - {eth.src}')\n",
    "            print(f'MAC Destination - {eth.dst}')\n",
    "\n",
    "if __name__ == \"__main__\":\n",
    "    main()\n"
   ]
  },
  {
   "cell_type": "code",
   "execution_count": 2,
   "id": "a6a9b8b5-19c9-46f1-b960-b2b73d7efb9e",
   "metadata": {
    "tags": []
   },
   "outputs": [
    {
     "name": "stdout",
     "output_type": "stream",
     "text": [
      "Packet Number - 1\n",
      "Timestamp: 2020-10-19 02:53:51.186495\n",
      "MAC source      - 00:0e:08:d9:7e:24\n",
      "MAC Destination - 00:00:00:01:00:06\n",
      "Packet Number - 2\n",
      "Timestamp: 2020-10-19 02:53:51.186691\n",
      "MAC source      - b4:b6:76:35:34:69\n",
      "MAC Destination - 00:04:00:01:00:06\n",
      "Packet Number - 3\n",
      "Timestamp: 2020-10-19 02:53:51.210669\n",
      "MAC source      - 00:0e:08:d9:7e:24\n",
      "MAC Destination - 00:00:00:01:00:06\n",
      "Packet Number - 4\n",
      "Timestamp: 2020-10-19 02:53:51.210799\n",
      "MAC source      - b4:b6:76:35:34:69\n",
      "MAC Destination - 00:04:00:01:00:06\n"
     ]
    }
   ],
   "source": [
    "#!/usr/bin/env python\n",
    "\"\"\"Alta3 Research | RZFeeser\n",
    "   Any trace that is in *.pcapng must be first decoded to *.pcap\n",
    "   this may be completed with the editcap utility. The editcap can be installed with tshark (sudo apt install tshark -y)\n",
    "\n",
    "   editcap -F libpcap -T ether trace.pcapng trace.pcap\n",
    "    \n",
    "   The dpkt library is installed with:\n",
    "\n",
    "   python3 -m pip install dpkt\"\"\"\n",
    "\n",
    "# standard library\n",
    "import datetime\n",
    "\n",
    "# python3 -m pip install dpkt\n",
    "import dpkt\n",
    "\n",
    "# turn a hexadecimal address into a readable address\n",
    "def mac_decode(old_mac):\n",
    "    \"\"\"returns a mac address decoded from hexadecimal\n",
    "       this trick comes from the dpkt documentation\"\"\"\n",
    "    return ':'.join('%02x' % dpkt.compat.compat_ord(b) for b in old_mac)\n",
    "\n",
    "def main():\n",
    "\n",
    "    # open the trace in read mode, and as a binary file\n",
    "    # as long as we are indenting the file remains open\n",
    "    with open('SIP_REGISTER_wp.pcap', 'rb') as f:\n",
    "\n",
    "        # opens the file object with dpkt and exposes it to\n",
    "        # the python sub-library \"pypcap\"\n",
    "        pcap = dpkt.pcap.Reader(f)\n",
    "\n",
    "        pkt_no = 0\n",
    "        # ts is a timestamp, and buf is \"buffered raw data\"\n",
    "        # this buffered raw data isn't too usable right away\n",
    "        for ts, buf in pcap:\n",
    "\n",
    "            pkt_no += 1\n",
    "            print(f'Packet Number - {pkt_no}')\n",
    "\n",
    "            # display teh timestamp in UTC format\n",
    "            print(f'Timestamp: {datetime.datetime.utcfromtimestamp(ts)}')\n",
    "\n",
    "            # unpack the ethernet frame (MAC source and destination)\n",
    "            eth = dpkt.ethernet.Ethernet(buf) # here we tell dpkt that this is an Ethernet capture (layer 2)\n",
    "            print(f'MAC source      - {mac_decode(eth.src)}')\n",
    "            print(f'MAC Destination - {mac_decode(eth.dst)}')\n",
    "\n",
    "if __name__ == \"__main__\":\n",
    "    main()\n"
   ]
  },
  {
   "cell_type": "code",
   "execution_count": null,
   "id": "bab6b345-1db3-4b60-b596-b89be0b9f7d1",
   "metadata": {},
   "outputs": [],
   "source": []
  }
 ],
 "metadata": {
  "kernelspec": {
   "display_name": "Python 3 (ipykernel)",
   "language": "python",
   "name": "python3"
  },
  "language_info": {
   "codemirror_mode": {
    "name": "ipython",
    "version": 3
   },
   "file_extension": ".py",
   "mimetype": "text/x-python",
   "name": "python",
   "nbconvert_exporter": "python",
   "pygments_lexer": "ipython3",
   "version": "3.10.12"
  }
 },
 "nbformat": 4,
 "nbformat_minor": 5
}
