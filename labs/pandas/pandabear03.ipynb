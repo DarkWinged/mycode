{
 "cells": [
  {
   "cell_type": "code",
   "execution_count": 1,
   "id": "27e5570c-5a57-4fd3-af4d-57441dff0dfe",
   "metadata": {
    "tags": []
   },
   "outputs": [],
   "source": [
    "import pandas as pd"
   ]
  },
  {
   "cell_type": "code",
   "execution_count": 2,
   "id": "746ac460-c03b-4d7b-8e33-a77d4eb92a27",
   "metadata": {
    "tags": []
   },
   "outputs": [
    {
     "name": "stdout",
     "output_type": "stream",
     "text": [
      "       device      serial             ip     region firmware\n",
      "0    ciscoios  C8293-928F   192.168.70.1  northeast    v14.6\n",
      "1  ciscoiosxr  A7392-123D       10.0.0.1  northeast     v1.2\n",
      "2  ciscoiosxe  C8233-593A     172.6.2.11  southwest     v3.2\n",
      "3   cisconxos  B1122-938A     172.4.2.11      south     v1.2\n",
      "4    ciscoios  C2832-23dB  192.168.102.1       west    v14.6\n",
      "5  ciscoiosxr  C9878-323F       10.3.3.1       west     v1.2\n",
      "6  ciscoiosxr  C7673-664E      10.66.7.1      north     v1.2\n"
     ]
    }
   ],
   "source": [
    "\n",
    "    # create a dataframe ciscocsv\n",
    "    ciscocsv = pd.read_csv(\"ciscodata.csv\")\n",
    "    # create a dataframe ciscojson\n",
    "    ciscojson = pd.read_json(\"ciscodata2.json\")\n",
    "\n",
    "    # The line below concats and reapplies the index value\n",
    "    ciscodf = pd.concat([ciscocsv, ciscojson], ignore_index=True, sort=False)\n",
    "\n",
    "    ## print to the screen the re-indexed dataframe\n",
    "    print(ciscodf)"
   ]
  },
  {
   "cell_type": "code",
   "execution_count": 5,
   "id": "16c5a9c0-b4d7-4a23-81b8-fa913225a0ac",
   "metadata": {
    "tags": []
   },
   "outputs": [
    {
     "name": "stdout",
     "output_type": "stream",
     "text": [
      "{'device': {0: 'ciscoios', 1: 'ciscoiosxr', 2: 'ciscoiosxe', 3: 'cisconxos', 4: 'ciscoios', 5: 'ciscoiosxr', 6: 'ciscoiosxr'}, 'serial': {0: 'C8293-928F', 1: 'A7392-123D', 2: 'C8233-593A', 3: 'B1122-938A', 4: 'C2832-23dB', 5: 'C9878-323F', 6: 'C7673-664E'}, 'ip': {0: '192.168.70.1', 1: '10.0.0.1', 2: '172.6.2.11', 3: '172.4.2.11', 4: '192.168.102.1', 5: '10.3.3.1', 6: '10.66.7.1'}, 'region': {0: 'northeast', 1: 'northeast', 2: 'southwest', 3: 'south', 4: 'west', 5: 'west', 6: 'north'}, 'firmware': {0: 'v14.6', 1: 'v1.2', 2: 'v3.2', 3: 'v1.2', 4: 'v14.6', 5: 'v1.2', 6: 'v1.2'}}\n"
     ]
    }
   ],
   "source": [
    "\n",
    "    ## export to json\n",
    "    ciscodf.to_json(\"combined_ciscodata.json\")\n",
    "\n",
    "    ## export to csv\n",
    "    ciscodf.to_csv(\"combined_ciscodata.csv\")\n",
    "\n",
    "    ## create a python dictionary\n",
    "    x = ciscodf.to_dict()\n",
    "    print(x)"
   ]
  },
  {
   "cell_type": "code",
   "execution_count": null,
   "id": "230bcafc-86d4-45bc-95ce-bba5d8122adf",
   "metadata": {},
   "outputs": [],
   "source": []
  }
 ],
 "metadata": {
  "kernelspec": {
   "display_name": "Python 3 (ipykernel)",
   "language": "python",
   "name": "python3"
  },
  "language_info": {
   "codemirror_mode": {
    "name": "ipython",
    "version": 3
   },
   "file_extension": ".py",
   "mimetype": "text/x-python",
   "name": "python",
   "nbconvert_exporter": "python",
   "pygments_lexer": "ipython3",
   "version": "3.10.12"
  }
 },
 "nbformat": 4,
 "nbformat_minor": 5
}
