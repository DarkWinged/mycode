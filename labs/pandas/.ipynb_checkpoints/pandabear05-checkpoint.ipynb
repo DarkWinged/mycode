{
 "cells": [
  {
   "cell_type": "code",
   "execution_count": 1,
   "id": "4080b438-b7cf-4a23-8c88-44641314049d",
   "metadata": {
    "tags": []
   },
   "outputs": [],
   "source": [
    "import pandas as pd"
   ]
  },
  {
   "cell_type": "code",
   "execution_count": 2,
   "id": "90f2f832-32f2-4615-beae-8021e01e1f41",
   "metadata": {
    "tags": []
   },
   "outputs": [
    {
     "name": "stdout",
     "output_type": "stream",
     "text": [
      "2018-01-15 15:45:00\n"
     ]
    }
   ],
   "source": [
    "print(pd.to_datetime('2018-01-15 3:45pm'))"
   ]
  },
  {
   "cell_type": "code",
   "execution_count": 3,
   "id": "b6c1e0dd-ae17-4ab1-bd45-6bf90855c0a6",
   "metadata": {
    "tags": []
   },
   "outputs": [
    {
     "name": "stdout",
     "output_type": "stream",
     "text": [
      "1952-07-08 00:00:00\n"
     ]
    }
   ],
   "source": [
    "print(pd.to_datetime('1952/07/08'))"
   ]
  },
  {
   "cell_type": "code",
   "execution_count": 4,
   "id": "9d9fe15d-6daa-48c3-a4db-cd2822ce44e1",
   "metadata": {
    "tags": []
   },
   "outputs": [
    {
     "name": "stdout",
     "output_type": "stream",
     "text": [
      "1952-08-07 00:00:00\n"
     ]
    }
   ],
   "source": [
    "print(pd.to_datetime('7/8/1952', dayfirst=True))"
   ]
  },
  {
   "cell_type": "code",
   "execution_count": 5,
   "id": "1120a700-76e7-412b-ab78-daa55cea23f7",
   "metadata": {
    "tags": []
   },
   "outputs": [
    {
     "name": "stdout",
     "output_type": "stream",
     "text": [
      "DatetimeIndex(['2018-01-05', '1952-07-08', '1995-10-10'], dtype='datetime64[ns]', freq=None)\n"
     ]
    }
   ],
   "source": [
    "print(pd.to_datetime(['2018-01-05', '7/8/1952', 'Oct 10, 1995'], format='mixed'))"
   ]
  },
  {
   "cell_type": "code",
   "execution_count": 6,
   "id": "5a8b6b9b-df30-4811-80fb-77c57f436462",
   "metadata": {
    "tags": []
   },
   "outputs": [
    {
     "name": "stdout",
     "output_type": "stream",
     "text": [
      "DatetimeIndex(['2010-02-25', '2017-08-06', '2012-12-15'], dtype='datetime64[ns]', freq=None)\n"
     ]
    }
   ],
   "source": [
    "print(pd.to_datetime(['2/25/10', '8/6/17', '12/15/12'], format='%m/%d/%y'))"
   ]
  },
  {
   "cell_type": "code",
   "execution_count": null,
   "id": "07b83340-1b20-424d-8226-df69bde79cbc",
   "metadata": {},
   "outputs": [],
   "source": []
  }
 ],
 "metadata": {
  "kernelspec": {
   "display_name": "Python 3 (ipykernel)",
   "language": "python",
   "name": "python3"
  },
  "language_info": {
   "codemirror_mode": {
    "name": "ipython",
    "version": 3
   },
   "file_extension": ".py",
   "mimetype": "text/x-python",
   "name": "python",
   "nbconvert_exporter": "python",
   "pygments_lexer": "ipython3",
   "version": "3.10.12"
  }
 },
 "nbformat": 4,
 "nbformat_minor": 5
}
