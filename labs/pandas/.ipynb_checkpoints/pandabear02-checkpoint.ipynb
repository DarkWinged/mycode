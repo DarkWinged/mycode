{
 "cells": [
  {
   "cell_type": "code",
   "execution_count": 1,
   "id": "6b12d39b-b501-4e17-bcc7-eebe2569c759",
   "metadata": {
    "tags": []
   },
   "outputs": [],
   "source": [
    "import pandas as pd"
   ]
  },
  {
   "cell_type": "code",
   "execution_count": null,
   "id": "5715ab5e-81c9-4b6d-b7b4-63c6f290c0c4",
   "metadata": {},
   "outputs": [
    {
     "name": "stdout",
     "output_type": "stream",
     "text": [
      "       device      serial             ip     region firmware\n",
      "0    ciscoios  C8293-928F   192.168.70.1  northeast    v14.6\n",
      "1  ciscoiosxr  A7392-123D       10.0.0.1  northeast     v1.2\n",
      "2  ciscoiosxe  C8233-593A     172.6.2.11  southwest     v3.2\n",
      "3   cisconxos  B1122-938A     172.4.2.11      south     v1.2\n",
      "4    ciscoios  C2832-23dB  192.168.102.1       west    v14.6\n",
      "       device      serial         ip region firmware\n",
      "0  ciscoiosxr  C9878-323F   10.3.3.1   west     v1.2\n",
      "1  ciscoiosxr  C7673-664E  10.66.7.1  north     v1.2\n"
     ]
    }
   ],
   "source": [
    "ciscocsv = pd.read_csv(\"ciscodata.csv\")\n",
    "ciscojson = pd.read_json(\"ciscodata2.json\")\n",
    "\n",
    "# display first 5 entries of the ciscocsv dataframe\n",
    "print(ciscocsv.head())\n",
    "\n",
    "# display first 5 entries of the ciscojson dataframe            \n",
    "print(ciscojson.head())"
   ]
  },
  {
   "cell_type": "code",
   "execution_count": 4,
   "id": "d94a85b6-369b-4077-b1d0-eeba84834efc",
   "metadata": {
    "tags": []
   },
   "outputs": [
    {
     "name": "stdout",
     "output_type": "stream",
     "text": [
      "       device      serial             ip     region firmware\n",
      "0    ciscoios  C8293-928F   192.168.70.1  northeast    v14.6\n",
      "1  ciscoiosxr  A7392-123D       10.0.0.1  northeast     v1.2\n",
      "2  ciscoiosxe  C8233-593A     172.6.2.11  southwest     v3.2\n",
      "3   cisconxos  B1122-938A     172.4.2.11      south     v1.2\n",
      "4    ciscoios  C2832-23dB  192.168.102.1       west    v14.6\n",
      "0  ciscoiosxr  C9878-323F       10.3.3.1       west     v1.2\n",
      "1  ciscoiosxr  C7673-664E      10.66.7.1      north     v1.2\n"
     ]
    }
   ],
   "source": [
    "ciscodf = pd.concat([ciscocsv, ciscojson])\n",
    "# uncomment the line below to \"fix\" the index issue\n",
    "# ciscodf = pd.concat([ciscocsv, ciscojson], ignore_index=True, sort=False)\n",
    "\n",
    "print(ciscodf)"
   ]
  },
  {
   "cell_type": "code",
   "execution_count": null,
   "id": "66788590-9fe9-477a-8731-0f1ed6704cf5",
   "metadata": {},
   "outputs": [],
   "source": []
  }
 ],
 "metadata": {
  "kernelspec": {
   "display_name": "Python 3 (ipykernel)",
   "language": "python",
   "name": "python3"
  },
  "language_info": {
   "codemirror_mode": {
    "name": "ipython",
    "version": 3
   },
   "file_extension": ".py",
   "mimetype": "text/x-python",
   "name": "python",
   "nbconvert_exporter": "python",
   "pygments_lexer": "ipython3",
   "version": "3.10.12"
  }
 },
 "nbformat": 4,
 "nbformat_minor": 5
}
