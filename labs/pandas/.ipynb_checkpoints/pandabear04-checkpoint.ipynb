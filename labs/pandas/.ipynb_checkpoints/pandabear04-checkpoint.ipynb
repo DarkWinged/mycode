{
 "cells": [
  {
   "cell_type": "code",
   "execution_count": 1,
   "id": "99afe97e-1823-44c3-abc3-4725ab8b0b7b",
   "metadata": {
    "tags": []
   },
   "outputs": [],
   "source": [
    "import pandas as pd\n",
    "from pprint import pprint"
   ]
  },
  {
   "cell_type": "code",
   "execution_count": 2,
   "id": "8a74f4ef-15b4-4fba-83cf-7de343049ff2",
   "metadata": {
    "tags": []
   },
   "outputs": [],
   "source": [
    "\n",
    "    # create a dataframe ciscocsv\n",
    "    ciscocsv = pd.read_csv(\"ciscodata.csv\")\n",
    "    # create a dataframe ciscojson\n",
    "    ciscojson = pd.read_json(\"ciscodata2.json\")\n",
    "\n",
    "    # The line below concats and reapplies the index value\n",
    "    ciscodf = pd.concat([ciscocsv, ciscojson], ignore_index=True, sort=False)"
   ]
  },
  {
   "cell_type": "code",
   "execution_count": 3,
   "id": "0788d52c-0780-43b3-b7dc-dab0b918d744",
   "metadata": {
    "tags": []
   },
   "outputs": [],
   "source": [
    "\n",
    "    ## export to json\n",
    "    ## do not include index number\n",
    "    ciscodf.to_json(\"combined_ciscodata.json\", orient=\"records\")\n",
    "\n",
    "    ## export to csv\n",
    "    ## do not include index number\n",
    "    ciscodf.to_csv(\"combined_ciscodata.csv\", index=False)"
   ]
  },
  {
   "cell_type": "code",
   "execution_count": 4,
   "id": "8722d238-588c-41de-86c0-76746bfa4b33",
   "metadata": {
    "tags": []
   },
   "outputs": [],
   "source": [
    "\n",
    "    ## export to Excel\n",
    "    ## do not include index number to xlsx\n",
    "    ciscodf.to_excel(\"combined_ciscodata.xlsx\", index=False)"
   ]
  },
  {
   "cell_type": "code",
   "execution_count": 6,
   "id": "287efcad-5844-48ee-a374-c8966ac0fffc",
   "metadata": {
    "tags": []
   },
   "outputs": [
    {
     "name": "stdout",
     "output_type": "stream",
     "text": [
      "[{'device': 'ciscoios',\n",
      "  'firmware': 'v14.6',\n",
      "  'ip': '192.168.70.1',\n",
      "  'region': 'northeast',\n",
      "  'serial': 'C8293-928F'},\n",
      " {'device': 'ciscoiosxr',\n",
      "  'firmware': 'v1.2',\n",
      "  'ip': '10.0.0.1',\n",
      "  'region': 'northeast',\n",
      "  'serial': 'A7392-123D'},\n",
      " {'device': 'ciscoiosxe',\n",
      "  'firmware': 'v3.2',\n",
      "  'ip': '172.6.2.11',\n",
      "  'region': 'southwest',\n",
      "  'serial': 'C8233-593A'},\n",
      " {'device': 'cisconxos',\n",
      "  'firmware': 'v1.2',\n",
      "  'ip': '172.4.2.11',\n",
      "  'region': 'south',\n",
      "  'serial': 'B1122-938A'},\n",
      " {'device': 'ciscoios',\n",
      "  'firmware': 'v14.6',\n",
      "  'ip': '192.168.102.1',\n",
      "  'region': 'west',\n",
      "  'serial': 'C2832-23dB'},\n",
      " {'device': 'ciscoiosxr',\n",
      "  'firmware': 'v1.2',\n",
      "  'ip': '10.3.3.1',\n",
      "  'region': 'west',\n",
      "  'serial': 'C9878-323F'},\n",
      " {'device': 'ciscoiosxr',\n",
      "  'firmware': 'v1.2',\n",
      "  'ip': '10.66.7.1',\n",
      "  'region': 'north',\n",
      "  'serial': 'C7673-664E'}]\n"
     ]
    }
   ],
   "source": [
    "\n",
    "    ## create a python dictionary\n",
    "    ## do not include index number\n",
    "    x = ciscodf.to_dict(orient='records')\n",
    "    pprint(x)"
   ]
  },
  {
   "cell_type": "code",
   "execution_count": null,
   "id": "979262b7-9642-46ae-a735-67b6af7d3848",
   "metadata": {},
   "outputs": [],
   "source": []
  }
 ],
 "metadata": {
  "kernelspec": {
   "display_name": "Python 3 (ipykernel)",
   "language": "python",
   "name": "python3"
  },
  "language_info": {
   "codemirror_mode": {
    "name": "ipython",
    "version": 3
   },
   "file_extension": ".py",
   "mimetype": "text/x-python",
   "name": "python",
   "nbconvert_exporter": "python",
   "pygments_lexer": "ipython3",
   "version": "3.10.12"
  }
 },
 "nbformat": 4,
 "nbformat_minor": 5
}
