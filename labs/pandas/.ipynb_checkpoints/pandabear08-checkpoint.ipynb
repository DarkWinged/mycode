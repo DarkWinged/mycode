{
 "cells": [
  {
   "cell_type": "code",
   "execution_count": 1,
   "id": "34798095-e831-403e-858f-4b4f659700a8",
   "metadata": {
    "tags": []
   },
   "outputs": [],
   "source": [
    "import pandas as pd\n",
    "\n",
    "import matplotlib\n",
    "matplotlib.use('Agg') # required to generate images without a window appearing\n",
    "\n",
    "# does not appear to be necessary\n",
    "#import matplotlib.pyplot as plt\n",
    "\n",
    "import seaborn as sns"
   ]
  },
  {
   "cell_type": "code",
   "execution_count": 2,
   "id": "04e68316-eef3-4d2d-97c0-15815b4fd5d0",
   "metadata": {
    "tags": []
   },
   "outputs": [],
   "source": [
    "# consolidate the above steps into a single line using the index_col and parse_dates parameters of the read_csv() function\n",
    "opsd_daily = pd.read_csv('netTraffic.csv', index_col=0, parse_dates=True)\n",
    "\n",
    "# add some additional columns to our data\n",
    "# Add columns with year, month, and weekday name\n",
    "opsd_daily['Year'] = opsd_daily.index.year\n",
    "opsd_daily['Month'] = opsd_daily.index.month\n",
    "# required to 'pull' the day name (ex. Monday, Tuesday, happy days...)\n",
    "opsd_daily['Weekday Name'] = opsd_daily.index.day_name()\n",
    "\n",
    "# Use seaborn style defaults and set the default figure size\n",
    "sns.set(rc={'figure.figsize':(11, 4)})\n",
    "\n",
    "\n",
    "### LINE PLOT - create a line plot of the full time series of daily network consumption, using the DataFrame’s plot() method.\n",
    "netlineplot = opsd_daily['Consumption'].plot(linewidth=0.5)\n",
    "\n",
    "# save out this figure\n",
    "fig = netlineplot.get_figure()\n",
    "fig.savefig(\"/home/student/static/linePlot.png\")\n",
    "\n",
    "\n",
    "\n",
    "### DOT PLOT - plot the data as dots instead, and also look at the YouTube and Netflix time series\n",
    "cols_plot = ['Consumption', 'YouTube', 'Netflix']\n",
    "axes = opsd_daily[cols_plot].plot(marker='.', alpha=0.5, linestyle='None', figsize=(11, 9), subplots=True)\n",
    "\n",
    "for ax in axes:\n",
    "    ax.set_ylabel('Daily Totals (TBs)')\n",
    "\n",
    "    # save out this figure\n",
    "    fig = ax.get_figure()\n",
    "    fig.savefig(f\"/home/student/static/dotPlot.png\")"
   ]
  },
  {
   "cell_type": "code",
   "execution_count": null,
   "id": "3646722c-2e5c-4c6e-bbdb-10a982885e35",
   "metadata": {},
   "outputs": [],
   "source": []
  }
 ],
 "metadata": {
  "kernelspec": {
   "display_name": "Python 3 (ipykernel)",
   "language": "python",
   "name": "python3"
  },
  "language_info": {
   "codemirror_mode": {
    "name": "ipython",
    "version": 3
   },
   "file_extension": ".py",
   "mimetype": "text/x-python",
   "name": "python",
   "nbconvert_exporter": "python",
   "pygments_lexer": "ipython3",
   "version": "3.10.12"
  }
 },
 "nbformat": 4,
 "nbformat_minor": 5
}
