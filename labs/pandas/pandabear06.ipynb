{
 "cells": [
  {
   "cell_type": "code",
   "execution_count": 1,
   "id": "53d8dd86-28b9-4357-ba4e-6470905d55c2",
   "metadata": {
    "tags": []
   },
   "outputs": [],
   "source": [
    "import pandas as pd"
   ]
  },
  {
   "cell_type": "code",
   "execution_count": 2,
   "id": "29ff4dc0-a660-4c93-9f36-492b888ac095",
   "metadata": {
    "tags": []
   },
   "outputs": [
    {
     "name": "stdout",
     "output_type": "stream",
     "text": [
      "(4383, 5)\n"
     ]
    }
   ],
   "source": [
    "opsd_daily = pd.read_csv('netTraffic.csv') # this opens the csv dataset\n",
    "\n",
    "print(opsd_daily.shape)"
   ]
  },
  {
   "cell_type": "code",
   "execution_count": 3,
   "id": "98ed0b41-ccee-4352-9119-678f1d70d21e",
   "metadata": {
    "tags": []
   },
   "outputs": [
    {
     "name": "stdout",
     "output_type": "stream",
     "text": [
      "\n",
      "Look at the first three rows\n",
      "         Date  Consumption  YouTube  Netflix  YouTube+Netflix\n",
      "0  2006-01-01     1069.184      NaN      NaN              NaN\n",
      "1  2006-01-02     1380.521      NaN      NaN              NaN\n",
      "2  2006-01-03     1442.533      NaN      NaN              NaN\n"
     ]
    }
   ],
   "source": [
    "print(\"\\nLook at the first three rows\")\n",
    "print(opsd_daily.head(3))"
   ]
  },
  {
   "cell_type": "code",
   "execution_count": 5,
   "id": "b43dbf5b-a872-49fe-891e-a9342b171f93",
   "metadata": {
    "tags": []
   },
   "outputs": [
    {
     "name": "stdout",
     "output_type": "stream",
     "text": [
      "\n",
      "Look at the last three rows\n",
      "            Date  Consumption  YouTube  Netflix  YouTube+Netflix\n",
      "4380  2017-12-29   1295.08753  584.277   29.854          614.131\n",
      "4381  2017-12-30   1215.44897  721.247    7.467          728.714\n",
      "4382  2017-12-31   1107.11488  721.176   19.980          741.156\n"
     ]
    }
   ],
   "source": [
    "print(\"\\nLook at the last three rows\")\n",
    "print(opsd_daily.tail(3))"
   ]
  },
  {
   "cell_type": "code",
   "execution_count": 6,
   "id": "3035f4b3-59d5-4688-844e-57f0edba6a4c",
   "metadata": {
    "tags": []
   },
   "outputs": [
    {
     "name": "stdout",
     "output_type": "stream",
     "text": [
      "Date                object\n",
      "Consumption        float64\n",
      "YouTube            float64\n",
      "Netflix            float64\n",
      "YouTube+Netflix    float64\n",
      "dtype: object\n"
     ]
    }
   ],
   "source": [
    "# check out the data types of each column\n",
    "print(opsd_daily.dtypes)"
   ]
  },
  {
   "cell_type": "code",
   "execution_count": 8,
   "id": "54cad6a1-1844-43c3-9486-f8bd5a22b57a",
   "metadata": {
    "tags": []
   },
   "outputs": [
    {
     "name": "stdout",
     "output_type": "stream",
     "text": [
      "\n",
      "Look at the first three rows after date has been set as the primary index\n",
      "            Consumption  YouTube  Netflix  YouTube+Netflix\n",
      "Date                                                      \n",
      "2006-01-01     1069.184      NaN      NaN              NaN\n",
      "2006-01-02     1380.521      NaN      NaN              NaN\n",
      "2006-01-03     1442.533      NaN      NaN              NaN\n"
     ]
    }
   ],
   "source": [
    "opsd_daily = opsd_daily.set_index('Date')\n",
    "\n",
    "print(\"\\nLook at the first three rows after date has been set as the primary index\")\n",
    "print(opsd_daily.head(3))"
   ]
  },
  {
   "cell_type": "code",
   "execution_count": 9,
   "id": "c088a12c-a395-4a1b-ba35-82e7eff192a7",
   "metadata": {
    "tags": []
   },
   "outputs": [
    {
     "name": "stdout",
     "output_type": "stream",
     "text": [
      "\n",
      "Look at the last three rows after date has been set as the primary index\n",
      "            Consumption  YouTube  Netflix  YouTube+Netflix\n",
      "Date                                                      \n",
      "2017-12-29   1295.08753  584.277   29.854          614.131\n",
      "2017-12-30   1215.44897  721.247    7.467          728.714\n",
      "2017-12-31   1107.11488  721.176   19.980          741.156\n"
     ]
    }
   ],
   "source": [
    "print(\"\\nLook at the last three rows after date has been set as the primary index\")\n",
    "print(opsd_daily.tail(3))"
   ]
  },
  {
   "cell_type": "code",
   "execution_count": 14,
   "id": "6beb981f-e46a-498c-a800-fb1e1053eed4",
   "metadata": {
    "tags": []
   },
   "outputs": [
    {
     "name": "stdin",
     "output_type": "stream",
     "text": [
      "\n",
      "Press ENTER to look at all of the index values associated with the dataset (dates) 2017-12-28\n"
     ]
    },
    {
     "name": "stdout",
     "output_type": "stream",
     "text": [
      "Index(['2006-01-01', '2006-01-02', '2006-01-03', '2006-01-04', '2006-01-05',\n",
      "       '2006-01-06', '2006-01-07', '2006-01-08', '2006-01-09', '2006-01-10',\n",
      "       ...\n",
      "       '2017-12-22', '2017-12-23', '2017-12-24', '2017-12-25', '2017-12-26',\n",
      "       '2017-12-27', '2017-12-28', '2017-12-29', '2017-12-30', '2017-12-31'],\n",
      "      dtype='object', name='Date', length=4383)\n"
     ]
    }
   ],
   "source": [
    "# display all of the index values (this is a lot of data)\n",
    "input(\"\\nPress ENTER to look at all of the index values associated with the dataset (dates)\")\n",
    "print(opsd_daily.index)"
   ]
  },
  {
   "cell_type": "code",
   "execution_count": 15,
   "id": "09b1e524-35e4-4e71-a631-20fe7a358dde",
   "metadata": {
    "tags": []
   },
   "outputs": [],
   "source": [
    "# consolidate the above steps into a single line using the index_col and parse_dates parameters of the read_csv() function\n",
    "opsd_daily = pd.read_csv('netTraffic.csv', index_col=0, parse_dates=True)\n",
    "\n",
    "# add some additional columns to our data\n",
    "# Add columns with year, month, and weekday name\n",
    "opsd_daily['Year'] = opsd_daily.index.year\n",
    "opsd_daily['Month'] = opsd_daily.index.month\n",
    "# required to 'pull' the day name (ex. Monday, Tuesday, happy days...)\n",
    "opsd_daily['Weekday Name'] = opsd_daily.index.day_name()"
   ]
  },
  {
   "cell_type": "code",
   "execution_count": 16,
   "id": "e65b2436-9de1-419d-be83-ad2f9102b661",
   "metadata": {
    "tags": []
   },
   "outputs": [
    {
     "name": "stdin",
     "output_type": "stream",
     "text": [
      "\n",
      "Press ENTER to look at a random sampling from 5 rows after adding the Year, Month and Weekday Name columns \n"
     ]
    },
    {
     "name": "stdout",
     "output_type": "stream",
     "text": [
      "            Consumption  YouTube  Netflix  YouTube+Netflix  Year  Month  \\\n",
      "Date                                                                      \n",
      "2008-08-23     1152.011      NaN      NaN              NaN  2008      8   \n",
      "2013-08-08     1291.984   79.666   93.371          173.037  2013      8   \n",
      "2009-08-27     1281.057      NaN      NaN              NaN  2009      8   \n",
      "2015-10-02     1391.050   81.229  160.641          241.870  2015     10   \n",
      "2009-06-02     1201.522      NaN      NaN              NaN  2009      6   \n",
      "\n",
      "           Weekday Name  \n",
      "Date                     \n",
      "2008-08-23     Saturday  \n",
      "2013-08-08     Thursday  \n",
      "2009-08-27     Thursday  \n",
      "2015-10-02       Friday  \n",
      "2009-06-02      Tuesday  \n"
     ]
    }
   ],
   "source": [
    "\n",
    "# display a random sampling of 5 rows\n",
    "input(\"\\nPress ENTER to look at a random sampling from 5 rows after adding the Year, Month and Weekday Name columns\")\n",
    "print(opsd_daily.sample(5, random_state=0))"
   ]
  },
  {
   "cell_type": "code",
   "execution_count": null,
   "id": "b75a55a5-2ff4-404a-9d47-f78b81a429c7",
   "metadata": {},
   "outputs": [],
   "source": []
  }
 ],
 "metadata": {
  "kernelspec": {
   "display_name": "Python 3 (ipykernel)",
   "language": "python",
   "name": "python3"
  },
  "language_info": {
   "codemirror_mode": {
    "name": "ipython",
    "version": 3
   },
   "file_extension": ".py",
   "mimetype": "text/x-python",
   "name": "python",
   "nbconvert_exporter": "python",
   "pygments_lexer": "ipython3",
   "version": "3.10.12"
  }
 },
 "nbformat": 4,
 "nbformat_minor": 5
}
